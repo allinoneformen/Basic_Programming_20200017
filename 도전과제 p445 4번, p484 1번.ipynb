{
 "cells": [
  {
   "cell_type": "code",
   "execution_count": 17,
   "id": "8560dac0",
   "metadata": {},
   "outputs": [
    {
     "name": "stdout",
     "output_type": "stream",
     "text": [
      "1학년 총 학생수: 463400\n",
      "2학년 총 학생수: 444714\n",
      "3학년 총 학생수: 500698\n"
     ]
    },
    {
     "data": {
      "image/png": "[encoded data removed]",
      "text/plain": [
       "<Figure size 432x288 with 1 Axes>"
      ]
     },
     "metadata": {
      "needs_background": "light"
     },
     "output_type": "display_data"
    }
   ],
   "source": [
    "import csv\n",
    "import numpy as np\n",
    "import matplotlib.pyplot as plt\n",
    "from matplotlib.pyplot import rc\n",
    "rc('font', family='Malgun Gothic')\n",
    "\n",
    "f = open('high_school_2019.csv', 'r', encoding='utf-8')\n",
    "lines = csv.reader(f)\n",
    "\n",
    "header = next(lines)\n",
    "\n",
    "list_data = []\n",
    "for line in lines:\n",
    "    list_data.append(line[:])\n",
    "    \n",
    "length = len(list_data)\n",
    "\n",
    "data = np.zeros((length, 6), dtype='int32')\n",
    "\n",
    "for i in range(length):\n",
    "    for j in range(6):\n",
    "        data[i][j] = list_data[i][j+2]\n",
    "        \n",
    "f.close()\n",
    "        \n",
    "data_sum = np.sum(data, axis=0)\n",
    "\n",
    "print('1학년 총 학생수:', data_sum[1])\n",
    "print('2학년 총 학생수:', data_sum[3])\n",
    "print('3학년 총 학생수:', data_sum[5])\n",
    "\n",
    "\n",
    "x = ['1학년', '2학년', '3학년']\n",
    "plt.bar(x, [data_sum[1], data_sum[3], data_sum[5]])\n",
    "plt.title('전국 고등학교 학년별 총 학생수')\n",
    "\n",
    "plt.show()\n"
   ]
  },
  {
   "cell_type": "code",
   "execution_count": 15,
   "id": "727c0a7b",
   "metadata": {},
   "outputs": [
    {
     "name": "stdout",
     "output_type": "stream",
     "text": [
      "[['서울', '9736962', '658355', '813563', '1455903', '1505729', '1563968', '1539385', '1200518', '688818', '263939', '40404', '6380'], ['부산', '3410925', '241624', '281120', '434692', '431911', '518321', '580966', '511174', '285602', '109312', '14396', '1807'], ['대구', '2432883', '186623', '234528', '321487', '303397', '391997', '428622', '311274', '171217', '74227', '8817', '694'], ['인천', '2954955', '239941', '281097', '405835', '417708', '490716', '515758', '344843', '172269', '74306', '11574', '908'], ['광주', '1456121', '125396', '162728', '207554', '191432', '244903', '234048', '155056', '91020', '38050', '5529', '405'], ['대전', '1473125', '120476', '151861', '212143', '199106', '242381', '243526', '170291', '88289', '39190', '5523', '339'], ['울산', '1145710', '103399', '115623', '147745', '158271', '190698', '211255', '136520', '57438', '21610', '2991', '160'], ['세종', '343788', '47454', '40574', '36273', '61442', '65714', '42907', '27813', '13609', '6863', '1084', '55'], ['경기도', '13265377', '1178548', '1347854', '1769080', '1917785', '2299179', '2205106', '1422638', '742296', '330231', '48650', '4010'], ['강원도', '1539521', '108694', '141975', '179813', '169694', '227950', '269666', '226444', '135668', '68321', '10493', '803'], ['충청북도', '1598599', '128290', '153119', '198910', '198768', '243982', '273857', '209926', '119037', '63513', '8656', '541'], ['충청남도', '2120995', '179808', '206578', '243748', '276553', '329789', '340568', '264305', '167339', '97941', '13481', '885'], ['전라북도', '1815112', '135297', '180675', '212339', '195971', '274471', '303074', '244901', '165445', '89352', '12770', '817'], ['전라남도', '1861894', '137868', '172888', '202760', '193083', '265366', '317226', '259385', '191719', '105793', '14984', '822'], ['경상북도', '2658956', '198214', '233506', '291097', '303472', '390995', '464427', '389498', '238482', '130716', '17589', '960'], ['경상남도', '3358828', '282751', '331566', '384750', '418383', '543911', '585186', '435315', '240111', '119977', '16139', '739'], ['제주도', '670876', '62086', '71539', '81968', '84145', '113076', '111221', '75172', '44621', '22963', '3819', '266']]\n"
     ]
    }
   ],
   "source": [
    "import csv\n",
    "\n",
    "f = open('population_age_2020.csv', 'r', encoding='utf-8')\n",
    "lines = csv.reader(f)\n",
    "\n",
    "header = next(lines)\n",
    "\n",
    "list_data = []\n",
    "for line in lines:\n",
    "    list_data.append(line[:])\n",
    "\n",
    "print(list_data)\n",
    "\n",
    "f.close()"
   ]
  }
 ],
 "metadata": {
  "kernelspec": {
   "display_name": "Python 3 (ipykernel)",
   "language": "python",
   "name": "python3"
  },
  "language_info": {
   "codemirror_mode": {
    "name": "ipython",
    "version": 3
   },
   "file_extension": ".py",
   "mimetype": "text/x-python",
   "name": "python",
   "nbconvert_exporter": "python",
   "pygments_lexer": "ipython3",
   "version": "3.9.7"
  }
 },
 "nbformat": 4,
 "nbformat_minor": 5
}
